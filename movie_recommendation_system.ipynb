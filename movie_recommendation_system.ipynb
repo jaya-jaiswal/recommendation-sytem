{
 "cells": [
  {
   "cell_type": "code",
   "execution_count": 81,
   "metadata": {
    "scrolled": true
   },
   "outputs": [
    {
     "data": {
      "text/html": [
       "<div>\n",
       "<style scoped>\n",
       "    .dataframe tbody tr th:only-of-type {\n",
       "        vertical-align: middle;\n",
       "    }\n",
       "\n",
       "    .dataframe tbody tr th {\n",
       "        vertical-align: top;\n",
       "    }\n",
       "\n",
       "    .dataframe thead th {\n",
       "        text-align: right;\n",
       "    }\n",
       "</style>\n",
       "<table border=\"1\" class=\"dataframe\">\n",
       "  <thead>\n",
       "    <tr style=\"text-align: right;\">\n",
       "      <th></th>\n",
       "      <th>MOVIE_ID</th>\n",
       "      <th>LANGUAGE</th>\n",
       "      <th>GENRE</th>\n",
       "      <th>MOVIE_NAME</th>\n",
       "      <th>ACTOR</th>\n",
       "      <th>ACTRESS</th>\n",
       "      <th>DIRECTOR</th>\n",
       "      <th>PRODUCER</th>\n",
       "      <th>RELEASE_YEAR</th>\n",
       "    </tr>\n",
       "  </thead>\n",
       "  <tbody>\n",
       "    <tr>\n",
       "      <th>0</th>\n",
       "      <td>1001</td>\n",
       "      <td>Hindi</td>\n",
       "      <td>Drama</td>\n",
       "      <td>Mughal-E-Azam</td>\n",
       "      <td>Dilip Kumar</td>\n",
       "      <td>Madhubala</td>\n",
       "      <td>K. Asif</td>\n",
       "      <td>Shapoorji</td>\n",
       "      <td>1960.0</td>\n",
       "    </tr>\n",
       "    <tr>\n",
       "      <th>1</th>\n",
       "      <td>1002</td>\n",
       "      <td>Hindi</td>\n",
       "      <td>Action</td>\n",
       "      <td>Kohinoor</td>\n",
       "      <td>Dilip Kumar</td>\n",
       "      <td>Meena Kumari</td>\n",
       "      <td>S.U. Sunny</td>\n",
       "      <td>Dr. V. N. Sinha</td>\n",
       "      <td>1960.0</td>\n",
       "    </tr>\n",
       "    <tr>\n",
       "      <th>2</th>\n",
       "      <td>1003</td>\n",
       "      <td>Hindi</td>\n",
       "      <td>Romance</td>\n",
       "      <td>Barsaat ki Raat</td>\n",
       "      <td>Bharat Bhushan</td>\n",
       "      <td>Madhubala</td>\n",
       "      <td>P.L. Santoshi</td>\n",
       "      <td>R. Chandra</td>\n",
       "      <td>1960.0</td>\n",
       "    </tr>\n",
       "    <tr>\n",
       "      <th>3</th>\n",
       "      <td>1004</td>\n",
       "      <td>Hindi</td>\n",
       "      <td>Drama</td>\n",
       "      <td>Mera Naam Joker</td>\n",
       "      <td>Raj Kapoor</td>\n",
       "      <td>Padmini</td>\n",
       "      <td>Raj Kapoor</td>\n",
       "      <td>Raj Kapoor</td>\n",
       "      <td>1970.0</td>\n",
       "    </tr>\n",
       "    <tr>\n",
       "      <th>4</th>\n",
       "      <td>1005</td>\n",
       "      <td>Hindi</td>\n",
       "      <td>Action</td>\n",
       "      <td>Sholay</td>\n",
       "      <td>Amitabh Bachchan</td>\n",
       "      <td>Jaya Bachchan</td>\n",
       "      <td>Ramesh Sippy</td>\n",
       "      <td>G.P. Sippy</td>\n",
       "      <td>1975.0</td>\n",
       "    </tr>\n",
       "  </tbody>\n",
       "</table>\n",
       "</div>"
      ],
      "text/plain": [
       "   MOVIE_ID LANGUAGE    GENRE       MOVIE_NAME             ACTOR  \\\n",
       "0      1001   Hindi     Drama    Mughal-E-Azam       Dilip Kumar   \n",
       "1      1002   Hindi    Action         Kohinoor       Dilip Kumar   \n",
       "2      1003   Hindi   Romance  Barsaat ki Raat    Bharat Bhushan   \n",
       "3      1004   Hindi     Drama  Mera Naam Joker        Raj Kapoor   \n",
       "4      1005   Hindi    Action           Sholay  Amitabh Bachchan   \n",
       "\n",
       "         ACTRESS       DIRECTOR         PRODUCER  RELEASE_YEAR  \n",
       "0      Madhubala        K. Asif        Shapoorji        1960.0  \n",
       "1   Meena Kumari     S.U. Sunny  Dr. V. N. Sinha        1960.0  \n",
       "2      Madhubala  P.L. Santoshi       R. Chandra        1960.0  \n",
       "3        Padmini     Raj Kapoor       Raj Kapoor        1970.0  \n",
       "4  Jaya Bachchan   Ramesh Sippy       G.P. Sippy        1975.0  "
      ]
     },
     "execution_count": 81,
     "metadata": {},
     "output_type": "execute_result"
    }
   ],
   "source": [
    "import pandas as pd\n",
    "import numpy as np\n",
    "\n",
    "from sklearn.metrics.pairwise import cosine_similarity\n",
    "from sklearn.feature_extraction.text import CountVectorizer\n",
    "\n",
    "\n",
    "ds = pd.read_excel(r\"C:\\Users\\jaya\\Desktop\\mrs_dataset.xlsx\")\n",
    "ds.head()"
   ]
  },
  {
   "cell_type": "code",
   "execution_count": 82,
   "metadata": {},
   "outputs": [
    {
     "data": {
      "text/html": [
       "<div>\n",
       "<style scoped>\n",
       "    .dataframe tbody tr th:only-of-type {\n",
       "        vertical-align: middle;\n",
       "    }\n",
       "\n",
       "    .dataframe tbody tr th {\n",
       "        vertical-align: top;\n",
       "    }\n",
       "\n",
       "    .dataframe thead th {\n",
       "        text-align: right;\n",
       "    }\n",
       "</style>\n",
       "<table border=\"1\" class=\"dataframe\">\n",
       "  <thead>\n",
       "    <tr style=\"text-align: right;\">\n",
       "      <th></th>\n",
       "      <th>LANGUAGE</th>\n",
       "      <th>GENRE</th>\n",
       "      <th>MOVIE_NAME</th>\n",
       "      <th>ACTOR</th>\n",
       "    </tr>\n",
       "  </thead>\n",
       "  <tbody>\n",
       "    <tr>\n",
       "      <th>0</th>\n",
       "      <td>Hindi</td>\n",
       "      <td>Drama</td>\n",
       "      <td>Mughal-E-Azam</td>\n",
       "      <td>Dilip Kumar</td>\n",
       "    </tr>\n",
       "    <tr>\n",
       "      <th>1</th>\n",
       "      <td>Hindi</td>\n",
       "      <td>Action</td>\n",
       "      <td>Kohinoor</td>\n",
       "      <td>Dilip Kumar</td>\n",
       "    </tr>\n",
       "    <tr>\n",
       "      <th>2</th>\n",
       "      <td>Hindi</td>\n",
       "      <td>Romance</td>\n",
       "      <td>Barsaat ki Raat</td>\n",
       "      <td>Bharat Bhushan</td>\n",
       "    </tr>\n",
       "    <tr>\n",
       "      <th>3</th>\n",
       "      <td>Hindi</td>\n",
       "      <td>Drama</td>\n",
       "      <td>Mera Naam Joker</td>\n",
       "      <td>Raj Kapoor</td>\n",
       "    </tr>\n",
       "    <tr>\n",
       "      <th>4</th>\n",
       "      <td>Hindi</td>\n",
       "      <td>Action</td>\n",
       "      <td>Sholay</td>\n",
       "      <td>Amitabh Bachchan</td>\n",
       "    </tr>\n",
       "  </tbody>\n",
       "</table>\n",
       "</div>"
      ],
      "text/plain": [
       "  LANGUAGE    GENRE       MOVIE_NAME             ACTOR\n",
       "0   Hindi     Drama    Mughal-E-Azam       Dilip Kumar\n",
       "1   Hindi    Action         Kohinoor       Dilip Kumar\n",
       "2   Hindi   Romance  Barsaat ki Raat    Bharat Bhushan\n",
       "3   Hindi     Drama  Mera Naam Joker        Raj Kapoor\n",
       "4   Hindi    Action           Sholay  Amitabh Bachchan"
      ]
     },
     "execution_count": 82,
     "metadata": {},
     "output_type": "execute_result"
    }
   ],
   "source": [
    "#IMPORTANT FEATURE SELECTION\n",
    "ds = ds[['LANGUAGE','GENRE','MOVIE_NAME','ACTOR' ]]\n",
    "ds.head()"
   ]
  },
  {
   "cell_type": "code",
   "execution_count": 83,
   "metadata": {},
   "outputs": [
    {
     "ename": "TypeError",
     "evalue": "can only join an iterable",
     "output_type": "error",
     "traceback": [
      "\u001b[1;31m---------------------------------------------------------------------------\u001b[0m",
      "\u001b[1;31mTypeError\u001b[0m                                 Traceback (most recent call last)",
      "\u001b[1;32m<ipython-input-83-8d55d1fa3da6>\u001b[0m in \u001b[0;36m<module>\u001b[1;34m\u001b[0m\n\u001b[0;32m      6\u001b[0m     \u001b[1;32mfor\u001b[0m \u001b[0mcol\u001b[0m \u001b[1;32min\u001b[0m \u001b[0mcolumns\u001b[0m\u001b[1;33m:\u001b[0m\u001b[1;33m\u001b[0m\u001b[1;33m\u001b[0m\u001b[0m\n\u001b[0;32m      7\u001b[0m         \u001b[1;32mif\u001b[0m \u001b[0mcol\u001b[0m \u001b[1;33m!=\u001b[0m \u001b[1;34m'ACTOR'\u001b[0m\u001b[1;33m:\u001b[0m\u001b[1;33m\u001b[0m\u001b[1;33m\u001b[0m\u001b[0m\n\u001b[1;32m----> 8\u001b[1;33m             \u001b[0mwords\u001b[0m \u001b[1;33m=\u001b[0m \u001b[0mwords\u001b[0m \u001b[1;33m+\u001b[0m \u001b[1;34m' '\u001b[0m\u001b[1;33m.\u001b[0m\u001b[0mjoin\u001b[0m\u001b[1;33m(\u001b[0m\u001b[0mrow\u001b[0m\u001b[1;33m[\u001b[0m\u001b[0mcol\u001b[0m\u001b[1;33m]\u001b[0m\u001b[1;33m)\u001b[0m\u001b[1;33m+\u001b[0m \u001b[1;34m' '\u001b[0m\u001b[1;33m\u001b[0m\u001b[1;33m\u001b[0m\u001b[0m\n\u001b[0m\u001b[0;32m      9\u001b[0m         \u001b[1;32melse\u001b[0m\u001b[1;33m:\u001b[0m\u001b[1;33m\u001b[0m\u001b[1;33m\u001b[0m\u001b[0m\n\u001b[0;32m     10\u001b[0m             \u001b[0mwords\u001b[0m \u001b[1;33m=\u001b[0m \u001b[0mwords\u001b[0m \u001b[1;33m+\u001b[0m \u001b[0mrow\u001b[0m\u001b[1;33m[\u001b[0m\u001b[0mcol\u001b[0m\u001b[1;33m]\u001b[0m\u001b[1;33m+\u001b[0m \u001b[1;34m' '\u001b[0m\u001b[1;33m\u001b[0m\u001b[1;33m\u001b[0m\u001b[0m\n",
      "\u001b[1;31mTypeError\u001b[0m: can only join an iterable"
     ]
    }
   ],
   "source": [
    "#bag of words means words situated in Movie name upon which we will calculate the similarity and would recommend. \n",
    "ds['bag_of_words'] = ''\n",
    "columns = ds.columns\n",
    "for index, row in ds.iterrows():\n",
    "    words = ''\n",
    "    for col in columns:\n",
    "        if col != 'ACTOR':\n",
    "            words = words + ' '.join(row[col])+ ' '\n",
    "        else:\n",
    "            words = words + row[col]+ ' '\n",
    "    row['bag_of_words'] = words\n",
    "    \n",
    "ds.drop(columns = [col for col in ds.columns if col !='bag_of_words'], inplace = True)\n"
   ]
  },
  {
   "cell_type": "code",
   "execution_count": 84,
   "metadata": {},
   "outputs": [
    {
     "data": {
      "text/html": [
       "<div>\n",
       "<style scoped>\n",
       "    .dataframe tbody tr th:only-of-type {\n",
       "        vertical-align: middle;\n",
       "    }\n",
       "\n",
       "    .dataframe tbody tr th {\n",
       "        vertical-align: top;\n",
       "    }\n",
       "\n",
       "    .dataframe thead th {\n",
       "        text-align: right;\n",
       "    }\n",
       "</style>\n",
       "<table border=\"1\" class=\"dataframe\">\n",
       "  <thead>\n",
       "    <tr style=\"text-align: right;\">\n",
       "      <th></th>\n",
       "      <th>LANGUAGE</th>\n",
       "      <th>GENRE</th>\n",
       "      <th>MOVIE_NAME</th>\n",
       "      <th>ACTOR</th>\n",
       "      <th>bag_of_words</th>\n",
       "    </tr>\n",
       "  </thead>\n",
       "  <tbody>\n",
       "    <tr>\n",
       "      <th>0</th>\n",
       "      <td>Hindi</td>\n",
       "      <td>Drama</td>\n",
       "      <td>Mughal-E-Azam</td>\n",
       "      <td>Dilip Kumar</td>\n",
       "      <td>H i n d i   D r a m a M u g h a l - E - A z a ...</td>\n",
       "    </tr>\n",
       "    <tr>\n",
       "      <th>1</th>\n",
       "      <td>Hindi</td>\n",
       "      <td>Action</td>\n",
       "      <td>Kohinoor</td>\n",
       "      <td>Dilip Kumar</td>\n",
       "      <td>H i n d i   A c t i o n K o h i n o o r Dilip ...</td>\n",
       "    </tr>\n",
       "    <tr>\n",
       "      <th>2</th>\n",
       "      <td>Hindi</td>\n",
       "      <td>Romance</td>\n",
       "      <td>Barsaat ki Raat</td>\n",
       "      <td>Bharat Bhushan</td>\n",
       "      <td>H i n d i   R o m a n c e B a r s a a t   k i ...</td>\n",
       "    </tr>\n",
       "    <tr>\n",
       "      <th>3</th>\n",
       "      <td>Hindi</td>\n",
       "      <td>Drama</td>\n",
       "      <td>Mera Naam Joker</td>\n",
       "      <td>Raj Kapoor</td>\n",
       "      <td>H i n d i   D r a m a M e r a   N a a m   J o ...</td>\n",
       "    </tr>\n",
       "    <tr>\n",
       "      <th>4</th>\n",
       "      <td>Hindi</td>\n",
       "      <td>Action</td>\n",
       "      <td>Sholay</td>\n",
       "      <td>Amitabh Bachchan</td>\n",
       "      <td>H i n d i   A c t i o n S h o l a y Amitabh Ba...</td>\n",
       "    </tr>\n",
       "  </tbody>\n",
       "</table>\n",
       "</div>"
      ],
      "text/plain": [
       "  LANGUAGE    GENRE       MOVIE_NAME             ACTOR  \\\n",
       "0   Hindi     Drama    Mughal-E-Azam       Dilip Kumar   \n",
       "1   Hindi    Action         Kohinoor       Dilip Kumar   \n",
       "2   Hindi   Romance  Barsaat ki Raat    Bharat Bhushan   \n",
       "3   Hindi     Drama  Mera Naam Joker        Raj Kapoor   \n",
       "4   Hindi    Action           Sholay  Amitabh Bachchan   \n",
       "\n",
       "                                        bag_of_words  \n",
       "0  H i n d i   D r a m a M u g h a l - E - A z a ...  \n",
       "1  H i n d i   A c t i o n K o h i n o o r Dilip ...  \n",
       "2  H i n d i   R o m a n c e B a r s a a t   k i ...  \n",
       "3  H i n d i   D r a m a M e r a   N a a m   J o ...  \n",
       "4  H i n d i   A c t i o n S h o l a y Amitabh Ba...  "
      ]
     },
     "execution_count": 84,
     "metadata": {},
     "output_type": "execute_result"
    }
   ],
   "source": [
    "#bag_of_words COMBINES  ALL THE WORDS PRESENT IN THE ABOVE 4 COLUMNS.\n",
    "ds.head()"
   ]
  },
  {
   "cell_type": "code",
   "execution_count": 85,
   "metadata": {},
   "outputs": [
    {
     "data": {
      "text/plain": [
       "0      Mughal-E-Azam\n",
       "1           Kohinoor\n",
       "2    Barsaat ki Raat\n",
       "3    Mera Naam Joker\n",
       "4             Sholay\n",
       "Name: MOVIE_NAME, dtype: object"
      ]
     },
     "execution_count": 85,
     "metadata": {},
     "output_type": "execute_result"
    }
   ],
   "source": [
    "#A MATRIX REPRESENTING ALL BAG OF WORDS IN VECTOR FORM\n",
    "#FROM SKLEARN FEATURE EXTRACTION USED ABOVE WE EXTRACT THE COUNT VECTORIZER.\n",
    "#INITIATES AND GENERATES THE COUNT MATRIX\n",
    "\n",
    "count = CountVectorizer()\n",
    "count_matrix = count.fit_transform(ds['bag_of_words'])\n",
    "\n",
    "\n",
    "#CREATES A SERIES FOR THE MOVIES_NAME SO THEY ASSOCIATES TO AN NUMERICAL ORDER\n",
    "\n",
    "indices = pd.Series(ds.MOVIE_NAME)\n",
    "indices[:5]\n",
    "#count_matrix\n",
    "\n"
   ]
  },
  {
   "cell_type": "code",
   "execution_count": 86,
   "metadata": {},
   "outputs": [
    {
     "data": {
      "text/plain": [
       "array([[1., 1., 0., ..., 0., 0., 0.],\n",
       "       [1., 1., 0., ..., 0., 0., 0.],\n",
       "       [0., 0., 1., ..., 0., 0., 0.],\n",
       "       ...,\n",
       "       [0., 0., 0., ..., 0., 0., 0.],\n",
       "       [0., 0., 0., ..., 0., 0., 0.],\n",
       "       [0., 0., 0., ..., 0., 0., 0.]])"
      ]
     },
     "execution_count": 86,
     "metadata": {},
     "output_type": "execute_result"
    }
   ],
   "source": [
    "#MEASURES THE COSINE SIMILARITY BETWEEN COUNT MATRIX .\n",
    "\n",
    "cosine_sim = cosine_similarity(count_matrix, count_matrix)\n",
    "cosine_sim"
   ]
  },
  {
   "cell_type": "code",
   "execution_count": 87,
   "metadata": {},
   "outputs": [
    {
     "data": {
      "text/plain": [
       "(180, 180)"
      ]
     },
     "execution_count": 87,
     "metadata": {},
     "output_type": "execute_result"
    }
   ],
   "source": [
    "cosine_sim.shape"
   ]
  },
  {
   "cell_type": "code",
   "execution_count": 88,
   "metadata": {},
   "outputs": [],
   "source": [
    "#FUNCTION THAT TAKES MOVIE NAME AS INPUT AND RECOMMENDS TOP 10 MOVIES\n",
    "\n",
    "def recommendations(MOVIE_NAME, cosine_sim = cosine_sim):\n",
    "    \n",
    "    recommended_movies = []\n",
    "    \n",
    "    #GETTING INDEX OF THE MOVIE THAT MATCHES THE MOVIE NAME.\n",
    "    idx = indices[indices == MOVIE_NAME].index[0]\n",
    "    \n",
    "    #CREATES A SERIES WITH SIMILAR SCORES IN DESCENDING ORDER\n",
    "    score_series = pd.Series(cosine_sim[idx]).sort_values(ascending = False)\n",
    "    \n",
    "    #GETS INDEX OF 10 MOST SIMILAR MOVIES\n",
    "    top_10_indexes = list(score_series.iloc[1:11].index)\n",
    "    \n",
    "    #CREATING A LIST WITH THE MOVIE NAME OF BEST 10 MATCHING MOVIES\n",
    "    for i in top_10_indexes:\n",
    "        recommended_movies.append(list(ds.MOVIE_NAME)[i])\n",
    "        \n",
    "    return recommended_movies    "
   ]
  },
  {
   "cell_type": "code",
   "execution_count": 89,
   "metadata": {},
   "outputs": [
    {
     "data": {
      "text/plain": [
       "['Dilwale Dulhaniya Le Jayenge',\n",
       " 'Chak De India',\n",
       " 'Kabhi Alvida Na Kehna',\n",
       " 'Main Hoon Na',\n",
       " 'Devdas',\n",
       " 'Kabhi Khushi Kabhi Gham',\n",
       " 'Kuch Kuch Hota Hai',\n",
       " 'Om Shanti Om',\n",
       " 'Fanaa',\n",
       " 'Rang De Basanti']"
      ]
     },
     "execution_count": 89,
     "metadata": {},
     "output_type": "execute_result"
    }
   ],
   "source": [
    "#WATCHED A ROMANTIC MOVIE KUCH KUCH HOTA HAI OF SHARUKH KHAN , NEXT 10 MOVIES ARE RECOMMENDED OF SHAHRUKH KHAN AND ROMANCE GENRE.\n",
    "\n",
    "recommendations('Kuch Kuch Hota Hai')"
   ]
  },
  {
   "cell_type": "code",
   "execution_count": null,
   "metadata": {},
   "outputs": [],
   "source": []
  }
 ],
 "metadata": {
  "kernelspec": {
   "display_name": "Python 3",
   "language": "python",
   "name": "python3"
  },
  "language_info": {
   "codemirror_mode": {
    "name": "ipython",
    "version": 3
   },
   "file_extension": ".py",
   "mimetype": "text/x-python",
   "name": "python",
   "nbconvert_exporter": "python",
   "pygments_lexer": "ipython3",
   "version": "3.7.6"
  }
 },
 "nbformat": 4,
 "nbformat_minor": 4
}
